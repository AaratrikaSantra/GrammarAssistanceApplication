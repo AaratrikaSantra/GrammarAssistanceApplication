{
  "cells": [
    {
      "cell_type": "code",
      "execution_count": null,
      "metadata": {
        "colab": {
          "base_uri": "https://localhost:8080/"
        },
        "id": "BZhOMRfdbfwp",
        "outputId": "527915ca-d5c3-440b-e882-66233d8c03d7"
      },
      "outputs": [
        {
          "name": "stdout",
          "output_type": "stream",
          "text": [
            "Requirement already satisfied: requests in /usr/local/lib/python3.10/dist-packages (2.31.0)\n",
            "Requirement already satisfied: charset-normalizer<4,>=2 in /usr/local/lib/python3.10/dist-packages (from requests) (3.2.0)\n",
            "Requirement already satisfied: idna<4,>=2.5 in /usr/local/lib/python3.10/dist-packages (from requests) (3.4)\n",
            "Requirement already satisfied: urllib3<3,>=1.21.1 in /usr/local/lib/python3.10/dist-packages (from requests) (2.0.4)\n",
            "Requirement already satisfied: certifi>=2017.4.17 in /usr/local/lib/python3.10/dist-packages (from requests) (2023.7.22)\n"
          ]
        }
      ],
      "source": [
        "!pip install requests"
      ]
    },
    {
      "cell_type": "code",
      "execution_count": null,
      "metadata": {
        "colab": {
          "base_uri": "https://localhost:8080/"
        },
        "id": "nM1T2xN8U0bI",
        "outputId": "f9f27195-14b4-403b-ac21-ac5dbfef374d"
      },
      "outputs": [
        {
          "metadata": {
            "tags": null
          },
          "name": "stdout",
          "output_type": "stream",
          "text": [
            "Error: DOI not found or an error occurred. Please check the DOI and try again.\n",
            "\n",
            "Error: DOI not found or an error occurred. Please check the DOI and try again.\n",
            "\n",
            "Citation: Rajiv Gupta (2023). \"Research Paper on Artificial Intelligence.\" International Journal of Engineering and Computer Science.\n",
            "\n"
          ]
        }
      ],
      "source": [
        "import requests\n",
        "import re\n",
        "\n",
        "# Function to extract DOI from a URL\n",
        "def extract_doi_from_url(url):\n",
        "    doi_match = re.search(r'https://doi.org/([\\w./-]+)', url)\n",
        "    if doi_match:\n",
        "        return doi_match.group(1)\n",
        "    else:\n",
        "        return None\n",
        "\n",
        "# Function to generate a citation for a given DOI (Digital Object Identifier)\n",
        "def generate_citation(doi):\n",
        "    # Extract DOI if provided in URL format\n",
        "    doi = extract_doi_from_url(doi) or doi\n",
        "\n",
        "    # Define the CrossRef API URL\n",
        "    api_url = f'https://api.crossref.org/works/{doi}'\n",
        "\n",
        "    try:\n",
        "        # Send a GET request to the CrossRef API\n",
        "        response = requests.get(api_url)\n",
        "\n",
        "        # Check if the request was successful (status code 200)\n",
        "        if response.status_code == 200:\n",
        "            data = response.json()\n",
        "\n",
        "            # Extract citation information\n",
        "            title = data['message']['title'][0]\n",
        "\n",
        "            # Extract and format authors\n",
        "            authors_list = data['message']['author']\n",
        "            authors = ', '.join([f\"{author['given']} {author['family']}\" for author in authors_list])\n",
        "\n",
        "            journal = data['message']['container-title'][0]\n",
        "            year = data['message']['created']['date-parts'][0][0]\n",
        "\n",
        "            # Generate the citation format\n",
        "            citation = f'{authors} ({year}). \"{title}.\" {journal}.'\n",
        "\n",
        "            return citation\n",
        "        else:\n",
        "            return None\n",
        "    except requests.exceptions.RequestException as e:\n",
        "        print(f\"Error: Unable to fetch data from CrossRef API. {e}\")\n",
        "        return None\n",
        "    except Exception as e:\n",
        "        print(f\"An error occurred: {e}\")\n",
        "        return None\n",
        "\n",
        "# Main program\n",
        "while True:\n",
        "    doi = input(\"Enter a DOI or DOI URL (or 'exit' to quit): \")\n",
        "\n",
        "    if doi.lower() == 'exit':\n",
        "        break\n",
        "\n",
        "    citation = generate_citation(doi)\n",
        "\n",
        "    if citation:\n",
        "        print(f'Citation: {citation}\\n')\n",
        "    else:\n",
        "        print(\"Error: DOI not found or an error occurred. Please check the DOI and try again.\\n\")\n"
      ]
    }
  ],
  "metadata": {
    "colab": {
      "provenance": []
    },
    "kernelspec": {
      "display_name": "Python 3",
      "name": "python3"
    },
    "language_info": {
      "name": "python"
    }
  },
  "nbformat": 4,
  "nbformat_minor": 0
}