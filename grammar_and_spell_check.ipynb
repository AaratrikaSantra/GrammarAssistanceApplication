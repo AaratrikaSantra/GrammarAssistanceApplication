{
  "nbformat": 4,
  "nbformat_minor": 0,
  "metadata": {
    "colab": {
      "provenance": []
    },
    "kernelspec": {
      "name": "python3",
      "display_name": "Python 3"
    },
    "language_info": {
      "name": "python"
    }
  },
  "cells": [
    {
      "cell_type": "code",
      "execution_count": null,
      "metadata": {
        "colab": {
          "base_uri": "https://localhost:8080/"
        },
        "id": "yheosj6FuUCE",
        "outputId": "1d185463-f1fe-4433-bb00-4a1efe50bfff"
      },
      "outputs": [
        {
          "output_type": "stream",
          "name": "stdout",
          "text": [
            "Requirement already satisfied: pyspellchecker in /usr/local/lib/python3.10/dist-packages (0.7.2)\n",
            "Requirement already satisfied: language-tool-python in /usr/local/lib/python3.10/dist-packages (2.7.1)\n",
            "Requirement already satisfied: requests in /usr/local/lib/python3.10/dist-packages (from language-tool-python) (2.31.0)\n",
            "Requirement already satisfied: tqdm in /usr/local/lib/python3.10/dist-packages (from language-tool-python) (4.66.1)\n",
            "Requirement already satisfied: charset-normalizer<4,>=2 in /usr/local/lib/python3.10/dist-packages (from requests->language-tool-python) (3.3.2)\n",
            "Requirement already satisfied: idna<4,>=2.5 in /usr/local/lib/python3.10/dist-packages (from requests->language-tool-python) (3.4)\n",
            "Requirement already satisfied: urllib3<3,>=1.21.1 in /usr/local/lib/python3.10/dist-packages (from requests->language-tool-python) (2.0.7)\n",
            "Requirement already satisfied: certifi>=2017.4.17 in /usr/local/lib/python3.10/dist-packages (from requests->language-tool-python) (2023.7.22)\n",
            "Enter the text you want to check for spelling and grammar errors:\n",
            "Me is Veronica, me is hapy\n",
            "Misspelled words:\n",
            "hapy\n",
            "veronica,\n",
            "\n",
            "Grammar errors:\n",
            "Offset 0, length 2, Rule ID: WRONG_PRP_AT_SENT_START\n",
            "Message: The subject form of the pronoun may be required here.\n",
            "Suggestion: I; He; She; They\n",
            "Me is Veronica, me is hapy\n",
            "^^\n",
            "Offset 22, length 4, Rule ID: MORFOLOGIK_RULE_EN_US\n",
            "Message: Possible spelling mistake found.\n",
            "Suggestion: happy; hay; Hay; hazy; Harpy; harpy; hap; haply; APY; HAP\n",
            "Me is Veronica, me is hapy\n",
            "                      ^^^^\n"
          ]
        }
      ],
      "source": [
        "\n",
        "\n",
        "\n",
        "!pip install pyspellchecker language-tool-python\n",
        "from spellchecker import SpellChecker\n",
        "import language_tool_python\n",
        "\n",
        "# Initialize the spell checker\n",
        "spell_checker = SpellChecker()\n",
        "\n",
        "# Initialize the grammar checker\n",
        "grammar_tool = language_tool_python.LanguageTool('en-US')\n",
        "\n",
        "# Function to perform spell check\n",
        "def perform_spell_check(text):\n",
        "    words = text.split()\n",
        "    misspelled = spell_checker.unknown(words)\n",
        "    return misspelled\n",
        "\n",
        "# Function to perform grammar check\n",
        "def perform_grammar_check(text):\n",
        "    matches = grammar_tool.check(text)\n",
        "    return matches\n",
        "\n",
        "# Input text\n",
        "input_text = input(\"Enter the text you want to check for spelling and grammar errors:\\n\")\n",
        "\n",
        "# Spell check\n",
        "misspelled_words = perform_spell_check(input_text)\n",
        "\n",
        "if misspelled_words:\n",
        "    print(\"Misspelled words:\")\n",
        "    for word in misspelled_words:\n",
        "        print(word)\n",
        "\n",
        "# Grammar check\n",
        "grammar_errors = perform_grammar_check(input_text)\n",
        "\n",
        "if grammar_errors:\n",
        "    print(\"\\nGrammar errors:\")\n",
        "    for error in grammar_errors:\n",
        "        print(error)\n"
      ]
    },
    {
      "cell_type": "code",
      "source": [
        "!pip install pyspellchecker language-tool-python\n",
        "from spellchecker import SpellChecker\n",
        "import language_tool_python\n",
        "\n",
        "# Initialize the spell checker\n",
        "spell_checker = SpellChecker()\n",
        "\n",
        "# Initialize the grammar checker\n",
        "grammar_tool = language_tool_python.LanguageTool('en-US')\n",
        "\n",
        "# Function to perform spell check\n",
        "def perform_spell_check(text):\n",
        "    words = text.split()\n",
        "    misspelled = spell_checker.unknown(words)\n",
        "    return misspelled\n",
        "\n",
        "# Function to perform grammar check\n",
        "def perform_grammar_check(text):\n",
        "    matches = grammar_tool.check(text)\n",
        "    return matches\n",
        "\n",
        "try:\n",
        "    # Input text\n",
        "    input_text = input(\"Enter the text you want to check for spelling and grammar errors:\\n\")\n",
        "\n",
        "    # Spell check\n",
        "    misspelled_words = perform_spell_check(input_text)\n",
        "\n",
        "    if misspelled_words:\n",
        "        print(\"Misspelled words:\")\n",
        "        for word in misspelled_words:\n",
        "            print(word)\n",
        "\n",
        "    # Grammar check\n",
        "    grammar_errors = perform_grammar_check(input_text)\n",
        "\n",
        "    if grammar_errors:\n",
        "        print(\"\\nGrammar errors:\")\n",
        "        for error in grammar_errors:\n",
        "            print(error)\n",
        "except Exception as e:\n",
        "    print(\"An error occurred:\", e)\n"
      ],
      "metadata": {
        "id": "2KpFD6nKv0Vl",
        "colab": {
          "base_uri": "https://localhost:8080/"
        },
        "outputId": "9260647b-6300-45b0-8556-5524cb5733af"
      },
      "execution_count": null,
      "outputs": [
        {
          "output_type": "stream",
          "name": "stdout",
          "text": [
            "Collecting pyspellchecker\n",
            "  Downloading pyspellchecker-0.7.2-py3-none-any.whl (3.4 MB)\n",
            "\u001b[2K     \u001b[90m━━━━━━━━━━━━━━━━━━━━━━━━━━━━━━━━━━━━━━━━\u001b[0m \u001b[32m3.4/3.4 MB\u001b[0m \u001b[31m14.5 MB/s\u001b[0m eta \u001b[36m0:00:00\u001b[0m\n",
            "\u001b[?25hCollecting language-tool-python\n",
            "  Downloading language_tool_python-2.7.1-py3-none-any.whl (34 kB)\n",
            "Requirement already satisfied: requests in /usr/local/lib/python3.10/dist-packages (from language-tool-python) (2.31.0)\n",
            "Requirement already satisfied: tqdm in /usr/local/lib/python3.10/dist-packages (from language-tool-python) (4.66.1)\n",
            "Requirement already satisfied: charset-normalizer<4,>=2 in /usr/local/lib/python3.10/dist-packages (from requests->language-tool-python) (3.3.2)\n",
            "Requirement already satisfied: idna<4,>=2.5 in /usr/local/lib/python3.10/dist-packages (from requests->language-tool-python) (3.4)\n",
            "Requirement already satisfied: urllib3<3,>=1.21.1 in /usr/local/lib/python3.10/dist-packages (from requests->language-tool-python) (2.0.7)\n",
            "Requirement already satisfied: certifi>=2017.4.17 in /usr/local/lib/python3.10/dist-packages (from requests->language-tool-python) (2023.7.22)\n",
            "Installing collected packages: pyspellchecker, language-tool-python\n",
            "Successfully installed language-tool-python-2.7.1 pyspellchecker-0.7.2\n"
          ]
        },
        {
          "output_type": "stream",
          "name": "stderr",
          "text": [
            "Downloading LanguageTool 5.7: 100%|██████████| 225M/225M [00:06<00:00, 34.7MB/s]\n",
            "INFO:language_tool_python.download_lt:Unzipping /tmp/tmpmrs90a_2.zip to /root/.cache/language_tool_python.\n",
            "INFO:language_tool_python.download_lt:Downloaded https://www.languagetool.org/download/LanguageTool-5.7.zip to /root/.cache/language_tool_python.\n"
          ]
        },
        {
          "output_type": "stream",
          "name": "stdout",
          "text": [
            "Enter the text you want to check for spelling and grammar errors:\n",
            "Me is Veronica, me is hapy\n",
            "Misspelled words:\n",
            "veronica,\n",
            "hapy\n",
            "\n",
            "Grammar errors:\n",
            "Offset 0, length 2, Rule ID: WRONG_PRP_AT_SENT_START\n",
            "Message: The subject form of the pronoun may be required here.\n",
            "Suggestion: I; He; She; They\n",
            "Me is Veronica, me is hapy\n",
            "^^\n",
            "Offset 22, length 4, Rule ID: MORFOLOGIK_RULE_EN_US\n",
            "Message: Possible spelling mistake found.\n",
            "Suggestion: happy; hay; Hay; hazy; Harpy; harpy; hap; haply; APY; HAP\n",
            "Me is Veronica, me is hapy\n",
            "                      ^^^^\n"
          ]
        }
      ]
    }
  ]
}