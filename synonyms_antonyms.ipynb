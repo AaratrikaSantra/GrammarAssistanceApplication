{
  "nbformat": 4,
  "nbformat_minor": 0,
  "metadata": {
    "colab": {
      "provenance": []
    },
    "kernelspec": {
      "name": "python3",
      "display_name": "Python 3"
    },
    "language_info": {
      "name": "python"
    }
  },
  "cells": [
    {
      "cell_type": "code",
      "execution_count": null,
      "metadata": {
        "colab": {
          "base_uri": "https://localhost:8080/"
        },
        "id": "1KwN7vO0iVJ8",
        "outputId": "c4506779-84b4-4658-e5b0-37de7561504c"
      },
      "outputs": [
        {
          "output_type": "stream",
          "name": "stderr",
          "text": [
            "[nltk_data] Downloading package wordnet to /root/nltk_data...\n"
          ]
        },
        {
          "output_type": "execute_result",
          "data": {
            "text/plain": [
              "True"
            ]
          },
          "metadata": {},
          "execution_count": 1
        }
      ],
      "source": [
        "import nltk\n",
        "nltk.download('wordnet')"
      ]
    },
    {
      "cell_type": "code",
      "source": [
        "from nltk.corpus import wordnet"
      ],
      "metadata": {
        "id": "JfHclZMU2jSq"
      },
      "execution_count": null,
      "outputs": []
    },
    {
      "cell_type": "code",
      "source": [
        "from nltk.corpus.reader.wordnet import WordNetError"
      ],
      "metadata": {
        "id": "U-81Xt2QyozN"
      },
      "execution_count": null,
      "outputs": []
    },
    {
      "cell_type": "code",
      "source": [
        "\n",
        "syn = wordnet.synsets('action')[0]\n",
        "print (\"Synset name :  \", syn.name())\n",
        "print (\"\\nSynset meaning : \", syn.definition())\n",
        "print (\"\\nSynset example : \", syn.examples())"
      ],
      "metadata": {
        "colab": {
          "base_uri": "https://localhost:8080/"
        },
        "id": "Pe4auKiskvrm",
        "outputId": "1855fc1d-621c-4367-d33f-53bb2ea2bc6e"
      },
      "execution_count": null,
      "outputs": [
        {
          "output_type": "stream",
          "name": "stdout",
          "text": [
            "Synset name :   action.n.01\n",
            "\n",
            "Synset meaning :  something done (usually as opposed to something said)\n",
            "\n",
            "Synset example :  ['there were stories of murders and other unnatural actions']\n"
          ]
        }
      ]
    },
    {
      "cell_type": "code",
      "source": [
        "syn = wordnet.synsets('beautiful')[0]\n",
        "print (\"Synset name :  \", syn.name())\n",
        "print (\"\\nSynset meaning : \", syn.definition())\n",
        "print (\"\\nSynset example : \", syn.examples())"
      ],
      "metadata": {
        "colab": {
          "base_uri": "https://localhost:8080/"
        },
        "id": "yISCjf5s4yxg",
        "outputId": "7c6338cb-afe3-4cca-9e8e-c525eed9a1f4"
      },
      "execution_count": null,
      "outputs": [
        {
          "output_type": "stream",
          "name": "stdout",
          "text": [
            "Synset name :   beautiful.a.01\n",
            "\n",
            "Synset meaning :  delighting the senses or exciting intellectual or emotional admiration\n",
            "\n",
            "Synset example :  ['a beautiful child', 'beautiful country', 'a beautiful painting', 'a beautiful theory', 'a beautiful party']\n"
          ]
        }
      ]
    },
    {
      "cell_type": "code",
      "source": [
        "from nltk.corpus import wordnet\n",
        "syn = wordnet.synsets('love')[0]\n",
        "print (\"Synset name :  \", syn.name())\n",
        "print (\"\\nSynset abstract term :  \", syn.hypernyms())\n",
        "print (\"\\nSynset specific term :  \", syn.hypernyms()[0].hyponyms())\n",
        "syn.root_hypernyms()\n",
        "print (\"\\nSynset root hypernerm :  \", syn.root_hypernyms())"
      ],
      "metadata": {
        "colab": {
          "base_uri": "https://localhost:8080/"
        },
        "id": "XBPx_ZS_k6B2",
        "outputId": "eb47df9f-1ff5-42d6-b538-9a37a129c422"
      },
      "execution_count": null,
      "outputs": [
        {
          "output_type": "stream",
          "name": "stdout",
          "text": [
            "Synset name :   love.n.01\n",
            "\n",
            "Synset abstract term :   [Synset('emotion.n.01')]\n",
            "\n",
            "Synset specific term :   [Synset('anger.n.01'), Synset('anxiety.n.02'), Synset('conditioned_emotional_response.n.01'), Synset('emotional_state.n.01'), Synset('fear.n.01'), Synset('fear.n.03'), Synset('hate.n.01'), Synset('joy.n.01'), Synset('love.n.01')]\n",
            "\n",
            "Synset root hypernerm :   [Synset('entity.n.01')]\n"
          ]
        }
      ]
    },
    {
      "cell_type": "code",
      "source": [
        "#parts of speech\n",
        "syn = wordnet.synsets('love')[0]\n",
        "print (\"Syn tag : \", syn.pos())\n",
        "\n",
        "syn = wordnet.synsets('walking')[0]\n",
        "print (\"Syn tag : \", syn.pos())\n",
        "\n",
        "syn = wordnet.synsets('allow')[0]\n",
        "print (\"Syn tag : \", syn.pos())\n",
        "\n",
        "syn = wordnet.synsets('sleep')[0]\n",
        "print (\"Syn tag : \", syn.pos())\n",
        "\n"
      ],
      "metadata": {
        "colab": {
          "base_uri": "https://localhost:8080/"
        },
        "id": "zh9iK4TJpL_f",
        "outputId": "4eae4d08-619c-4e3f-e735-ee864420d31a"
      },
      "execution_count": null,
      "outputs": [
        {
          "output_type": "stream",
          "name": "stdout",
          "text": [
            "Syn tag :  n\n",
            "Syn tag :  n\n",
            "Syn tag :  v\n",
            "Syn tag :  n\n"
          ]
        }
      ]
    },
    {
      "cell_type": "code",
      "source": [
        "import nltk\n",
        "nltk.download('wordnet')\n",
        "from nltk.corpus import wordnet\n",
        "\n",
        "def get_synonyms(word):\n",
        "    synonyms = set()\n",
        "    for syn in wordnet.synsets(word):\n",
        "        for lemma in syn.lemmas():\n",
        "            synonyms.add(lemma.name())\n",
        "    return synonyms\n",
        "\n",
        "def get_antonyms(word):\n",
        "    antonyms = set()\n",
        "    for syn in wordnet.synsets(word):\n",
        "        for lemma in syn.lemmas():\n",
        "            if lemma.antonyms():\n",
        "                antonyms.add(lemma.antonyms()[0].name())\n",
        "    return antonyms\n",
        "\n",
        "try:\n",
        "    user_word = input(\"Enter a word to find its synonyms and antonyms: \").lower()\n",
        "\n",
        "    synonyms = get_synonyms(user_word)\n",
        "    antonyms = get_antonyms(user_word)\n",
        "\n",
        "    if synonyms:\n",
        "        print(f\"Synonyms of '{user_word}': {', '.join(synonyms)}\")\n",
        "    else:\n",
        "        print(f\"No synonyms found for '{user_word}'\")\n",
        "\n",
        "    if antonyms:\n",
        "        print(f\"Antonyms of '{user_word}': {', '.join(antonyms)}\")\n",
        "    else:\n",
        "        print(f\"No antonyms found for '{user_word}'\")\n",
        "\n",
        "except Exception as e:\n",
        "    print(\"An error occurred:\", e)\n"
      ],
      "metadata": {
        "id": "5BhKFjpSFrEy",
        "colab": {
          "base_uri": "https://localhost:8080/"
        },
        "outputId": "3b98eaf8-426e-402f-83ef-aec708035556"
      },
      "execution_count": null,
      "outputs": [
        {
          "output_type": "stream",
          "name": "stderr",
          "text": [
            "[nltk_data] Downloading package wordnet to /root/nltk_data...\n",
            "[nltk_data]   Package wordnet is already up-to-date!\n"
          ]
        },
        {
          "output_type": "stream",
          "name": "stdout",
          "text": [
            "Enter a word to find its synonyms and antonyms: depression\n",
            "Synonyms of 'depression': natural_depression, low, Depression, slump, clinical_depression, imprint, economic_crisis, impression, depression, Great_Depression, depressive_disorder\n",
            "Antonyms of 'depression': elation, natural_elevation\n"
          ]
        }
      ]
    }
  ]
}